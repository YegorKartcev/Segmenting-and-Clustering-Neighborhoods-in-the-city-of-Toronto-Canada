{
 "cells": [
  {
   "cell_type": "markdown",
   "metadata": {},
   "source": [
    "### Introduction. Business Problem"
   ]
  },
  {
   "cell_type": "markdown",
   "metadata": {},
   "source": [
    "1) We are a fast food brand looking for the best place to open a shop in Toronto. In general we are looking for a place of concentration families with kids, because children are just crazy about cheap and tasty food and don't care if it is healthy or not. "
   ]
  },
  {
   "cell_type": "markdown",
   "metadata": {},
   "source": [
    "2) Probably, that place already has other fast foods nearby (we are not the only smart guys here), this will be the first marker. A bakery or confectionery would be another sign of a correct place for us. And the third marker could be an event place. Even though, there will be many competitiors to our business, we will get a prepared customer. Let's analyze the neighbourghoods and see if there is something suitable for us."
   ]
  }
 ],
 "metadata": {
  "kernelspec": {
   "display_name": "Python 3",
   "language": "python",
   "name": "python3"
  },
  "language_info": {
   "codemirror_mode": {
    "name": "ipython",
    "version": 3
   },
   "file_extension": ".py",
   "mimetype": "text/x-python",
   "name": "python",
   "nbconvert_exporter": "python",
   "pygments_lexer": "ipython3",
   "version": "3.6.5"
  }
 },
 "nbformat": 4,
 "nbformat_minor": 2
}
